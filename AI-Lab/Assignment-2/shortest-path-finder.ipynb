{
 "cells": [
  {
   "cell_type": "markdown",
   "metadata": {},
   "source": [
    "# **Finding Shortest Path using A\\* Search Algorithm**"
   ]
  },
  {
   "cell_type": "code",
   "execution_count": 44,
   "metadata": {},
   "outputs": [
    {
     "data": {
      "text/html": [
       "<style  type=\"text/css\" >\n",
       "</style><table id=\"T_2bcb3_\" ><thead>    <tr>        <th class=\"blank level0\" ></th>        <th class=\"col_heading level0 col0\" >PARENT</th>        <th class=\"col_heading level0 col1\" >CHILD</th>        <th class=\"col_heading level0 col2\" >g(n)</th>        <th class=\"col_heading level0 col3\" >h(n)</th>    </tr></thead><tbody>\n",
       "                <tr>\n",
       "                        <th id=\"T_2bcb3_level0_row0\" class=\"row_heading level0 row0\" >0</th>\n",
       "                        <td id=\"T_2bcb3_row0_col0\" class=\"data row0 col0\" >SHAHBAGH</td>\n",
       "                        <td id=\"T_2bcb3_row0_col1\" class=\"data row0 col1\" >KAWRAN BAZAR</td>\n",
       "                        <td id=\"T_2bcb3_row0_col2\" class=\"data row0 col2\" >1.60</td>\n",
       "                        <td id=\"T_2bcb3_row0_col3\" class=\"data row0 col3\" >35</td>\n",
       "            </tr>\n",
       "            <tr>\n",
       "                        <th id=\"T_2bcb3_level0_row1\" class=\"row_heading level0 row1\" >1</th>\n",
       "                        <td id=\"T_2bcb3_row1_col0\" class=\"data row1 col0\" >SHAHBAGH</td>\n",
       "                        <td id=\"T_2bcb3_row1_col1\" class=\"data row1 col1\" >PARIBAGH</td>\n",
       "                        <td id=\"T_2bcb3_row1_col2\" class=\"data row1 col2\" >0.80</td>\n",
       "                        <td id=\"T_2bcb3_row1_col3\" class=\"data row1 col3\" >20</td>\n",
       "            </tr>\n",
       "            <tr>\n",
       "                        <th id=\"T_2bcb3_level0_row2\" class=\"row_heading level0 row2\" >2</th>\n",
       "                        <td id=\"T_2bcb3_row2_col0\" class=\"data row2 col0\" >PARIBAGH</td>\n",
       "                        <td id=\"T_2bcb3_row2_col1\" class=\"data row2 col1\" >BANGLA MOTOR</td>\n",
       "                        <td id=\"T_2bcb3_row2_col2\" class=\"data row2 col2\" >0.40</td>\n",
       "                        <td id=\"T_2bcb3_row2_col3\" class=\"data row2 col3\" >10</td>\n",
       "            </tr>\n",
       "            <tr>\n",
       "                        <th id=\"T_2bcb3_level0_row3\" class=\"row_heading level0 row3\" >3</th>\n",
       "                        <td id=\"T_2bcb3_row3_col0\" class=\"data row3 col0\" >BANGLA MOTOR</td>\n",
       "                        <td id=\"T_2bcb3_row3_col1\" class=\"data row3 col1\" >KAWRAN BAZAR</td>\n",
       "                        <td id=\"T_2bcb3_row3_col2\" class=\"data row3 col2\" >0.46</td>\n",
       "                        <td id=\"T_2bcb3_row3_col3\" class=\"data row3 col3\" >10</td>\n",
       "            </tr>\n",
       "            <tr>\n",
       "                        <th id=\"T_2bcb3_level0_row4\" class=\"row_heading level0 row4\" >4</th>\n",
       "                        <td id=\"T_2bcb3_row4_col0\" class=\"data row4 col0\" >KAWRAN BAZAR</td>\n",
       "                        <td id=\"T_2bcb3_row4_col1\" class=\"data row4 col1\" >PANTHAPATH</td>\n",
       "                        <td id=\"T_2bcb3_row4_col2\" class=\"data row4 col2\" >0.60</td>\n",
       "                        <td id=\"T_2bcb3_row4_col3\" class=\"data row4 col3\" >15</td>\n",
       "            </tr>\n",
       "            <tr>\n",
       "                        <th id=\"T_2bcb3_level0_row5\" class=\"row_heading level0 row5\" >5</th>\n",
       "                        <td id=\"T_2bcb3_row5_col0\" class=\"data row5 col0\" >KAWRAN BAZAR</td>\n",
       "                        <td id=\"T_2bcb3_row5_col1\" class=\"data row5 col1\" >FARMGATE</td>\n",
       "                        <td id=\"T_2bcb3_row5_col2\" class=\"data row5 col2\" >0.90</td>\n",
       "                        <td id=\"T_2bcb3_row5_col3\" class=\"data row5 col3\" >25</td>\n",
       "            </tr>\n",
       "            <tr>\n",
       "                        <th id=\"T_2bcb3_level0_row6\" class=\"row_heading level0 row6\" >6</th>\n",
       "                        <td id=\"T_2bcb3_row6_col0\" class=\"data row6 col0\" >PANTHAPATH</td>\n",
       "                        <td id=\"T_2bcb3_row6_col1\" class=\"data row6 col1\" >UAP</td>\n",
       "                        <td id=\"T_2bcb3_row6_col2\" class=\"data row6 col2\" >0.45</td>\n",
       "                        <td id=\"T_2bcb3_row6_col3\" class=\"data row6 col3\" >10</td>\n",
       "            </tr>\n",
       "            <tr>\n",
       "                        <th id=\"T_2bcb3_level0_row7\" class=\"row_heading level0 row7\" >7</th>\n",
       "                        <td id=\"T_2bcb3_row7_col0\" class=\"data row7 col0\" >FARMGATE</td>\n",
       "                        <td id=\"T_2bcb3_row7_col1\" class=\"data row7 col1\" >UAP</td>\n",
       "                        <td id=\"T_2bcb3_row7_col2\" class=\"data row7 col2\" >0.45</td>\n",
       "                        <td id=\"T_2bcb3_row7_col3\" class=\"data row7 col3\" >10</td>\n",
       "            </tr>\n",
       "    </tbody></table>"
      ],
      "text/plain": [
       "<pandas.io.formats.style.Styler at 0x1bb7cd18520>"
      ]
     },
     "execution_count": 44,
     "metadata": {},
     "output_type": "execute_result"
    }
   ],
   "source": [
    "import pandas as pd\n",
    "\n",
    "pd.set_option('mode.chained_assignment', None)\n",
    "df = pd.read_csv('dataset.csv')\n",
    "df.style.format({'g(n)': '{:.2f}'})"
   ]
  },
  {
   "cell_type": "code",
   "execution_count": 45,
   "metadata": {},
   "outputs": [
    {
     "name": "stdout",
     "output_type": "stream",
     "text": [
      "STARTING STATE: Shahbagh\n",
      "GOAL STATE: UAP\n"
     ]
    }
   ],
   "source": [
    "start = input('STARTING STATE: ').upper()\n",
    "goal = input('GOAL STATE: ').upper()"
   ]
  },
  {
   "cell_type": "code",
   "execution_count": 46,
   "metadata": {},
   "outputs": [
    {
     "name": "stdout",
     "output_type": "stream",
     "text": [
      "Starting node is: [SHAHBAGH].\n",
      "Goal node is: [UAP]\n"
     ]
    }
   ],
   "source": [
    "print('Starting node is: [{}].\\nGoal node is: [{}]'.format(start, goal))"
   ]
  },
  {
   "cell_type": "code",
   "execution_count": 47,
   "metadata": {},
   "outputs": [
    {
     "data": {
      "text/html": [
       "<style  type=\"text/css\" >\n",
       "#T_86e71_row0_col2,#T_86e71_row0_col3{\n",
       "            background-color:  #008066;\n",
       "            color:  #f1f1f1;\n",
       "        }#T_86e71_row1_col2{\n",
       "            background-color:  #aad466;\n",
       "            color:  #000000;\n",
       "        }#T_86e71_row1_col3{\n",
       "            background-color:  #99cc66;\n",
       "            color:  #000000;\n",
       "        }#T_86e71_row2_col2,#T_86e71_row2_col3,#T_86e71_row3_col3,#T_86e71_row6_col3,#T_86e71_row7_col3{\n",
       "            background-color:  #ffff66;\n",
       "            color:  #000000;\n",
       "        }#T_86e71_row3_col2{\n",
       "            background-color:  #f3f966;\n",
       "            color:  #000000;\n",
       "        }#T_86e71_row4_col2{\n",
       "            background-color:  #d5ea66;\n",
       "            color:  #000000;\n",
       "        }#T_86e71_row4_col3{\n",
       "            background-color:  #cce666;\n",
       "            color:  #000000;\n",
       "        }#T_86e71_row5_col2{\n",
       "            background-color:  #95ca66;\n",
       "            color:  #000000;\n",
       "        }#T_86e71_row5_col3{\n",
       "            background-color:  #66b266;\n",
       "            color:  #000000;\n",
       "        }#T_86e71_row6_col2,#T_86e71_row7_col2{\n",
       "            background-color:  #f5fa66;\n",
       "            color:  #000000;\n",
       "        }</style><table id=\"T_86e71_\" ><thead>    <tr>        <th class=\"blank level0\" ></th>        <th class=\"col_heading level0 col0\" >Parent</th>        <th class=\"col_heading level0 col1\" >Child</th>        <th class=\"col_heading level0 col2\" >g(n)</th>        <th class=\"col_heading level0 col3\" >h(n)</th>    </tr></thead><tbody>\n",
       "                <tr>\n",
       "                        <th id=\"T_86e71_level0_row0\" class=\"row_heading level0 row0\" >0</th>\n",
       "                        <td id=\"T_86e71_row0_col0\" class=\"data row0 col0\" >SHAHBAGH</td>\n",
       "                        <td id=\"T_86e71_row0_col1\" class=\"data row0 col1\" >KAWRAN BAZAR</td>\n",
       "                        <td id=\"T_86e71_row0_col2\" class=\"data row0 col2\" >1.60</td>\n",
       "                        <td id=\"T_86e71_row0_col3\" class=\"data row0 col3\" >35</td>\n",
       "            </tr>\n",
       "            <tr>\n",
       "                        <th id=\"T_86e71_level0_row1\" class=\"row_heading level0 row1\" >1</th>\n",
       "                        <td id=\"T_86e71_row1_col0\" class=\"data row1 col0\" >SHAHBAGH</td>\n",
       "                        <td id=\"T_86e71_row1_col1\" class=\"data row1 col1\" >PARIBAGH</td>\n",
       "                        <td id=\"T_86e71_row1_col2\" class=\"data row1 col2\" >0.80</td>\n",
       "                        <td id=\"T_86e71_row1_col3\" class=\"data row1 col3\" >20</td>\n",
       "            </tr>\n",
       "            <tr>\n",
       "                        <th id=\"T_86e71_level0_row2\" class=\"row_heading level0 row2\" >2</th>\n",
       "                        <td id=\"T_86e71_row2_col0\" class=\"data row2 col0\" >PARIBAGH</td>\n",
       "                        <td id=\"T_86e71_row2_col1\" class=\"data row2 col1\" >BANGLA MOTOR</td>\n",
       "                        <td id=\"T_86e71_row2_col2\" class=\"data row2 col2\" >0.40</td>\n",
       "                        <td id=\"T_86e71_row2_col3\" class=\"data row2 col3\" >10</td>\n",
       "            </tr>\n",
       "            <tr>\n",
       "                        <th id=\"T_86e71_level0_row3\" class=\"row_heading level0 row3\" >3</th>\n",
       "                        <td id=\"T_86e71_row3_col0\" class=\"data row3 col0\" >BANGLA MOTOR</td>\n",
       "                        <td id=\"T_86e71_row3_col1\" class=\"data row3 col1\" >KAWRAN BAZAR</td>\n",
       "                        <td id=\"T_86e71_row3_col2\" class=\"data row3 col2\" >0.46</td>\n",
       "                        <td id=\"T_86e71_row3_col3\" class=\"data row3 col3\" >10</td>\n",
       "            </tr>\n",
       "            <tr>\n",
       "                        <th id=\"T_86e71_level0_row4\" class=\"row_heading level0 row4\" >4</th>\n",
       "                        <td id=\"T_86e71_row4_col0\" class=\"data row4 col0\" >KAWRAN BAZAR</td>\n",
       "                        <td id=\"T_86e71_row4_col1\" class=\"data row4 col1\" >PANTHAPATH</td>\n",
       "                        <td id=\"T_86e71_row4_col2\" class=\"data row4 col2\" >0.60</td>\n",
       "                        <td id=\"T_86e71_row4_col3\" class=\"data row4 col3\" >15</td>\n",
       "            </tr>\n",
       "            <tr>\n",
       "                        <th id=\"T_86e71_level0_row5\" class=\"row_heading level0 row5\" >5</th>\n",
       "                        <td id=\"T_86e71_row5_col0\" class=\"data row5 col0\" >KAWRAN BAZAR</td>\n",
       "                        <td id=\"T_86e71_row5_col1\" class=\"data row5 col1\" >FARMGATE</td>\n",
       "                        <td id=\"T_86e71_row5_col2\" class=\"data row5 col2\" >0.90</td>\n",
       "                        <td id=\"T_86e71_row5_col3\" class=\"data row5 col3\" >25</td>\n",
       "            </tr>\n",
       "            <tr>\n",
       "                        <th id=\"T_86e71_level0_row6\" class=\"row_heading level0 row6\" >6</th>\n",
       "                        <td id=\"T_86e71_row6_col0\" class=\"data row6 col0\" >PANTHAPATH</td>\n",
       "                        <td id=\"T_86e71_row6_col1\" class=\"data row6 col1\" >UAP</td>\n",
       "                        <td id=\"T_86e71_row6_col2\" class=\"data row6 col2\" >0.45</td>\n",
       "                        <td id=\"T_86e71_row6_col3\" class=\"data row6 col3\" >10</td>\n",
       "            </tr>\n",
       "            <tr>\n",
       "                        <th id=\"T_86e71_level0_row7\" class=\"row_heading level0 row7\" >7</th>\n",
       "                        <td id=\"T_86e71_row7_col0\" class=\"data row7 col0\" >FARMGATE</td>\n",
       "                        <td id=\"T_86e71_row7_col1\" class=\"data row7 col1\" >UAP</td>\n",
       "                        <td id=\"T_86e71_row7_col2\" class=\"data row7 col2\" >0.45</td>\n",
       "                        <td id=\"T_86e71_row7_col3\" class=\"data row7 col3\" >10</td>\n",
       "            </tr>\n",
       "    </tbody></table>"
      ],
      "text/plain": [
       "<pandas.io.formats.style.Styler at 0x1bb7cd1d790>"
      ]
     },
     "execution_count": 47,
     "metadata": {},
     "output_type": "execute_result"
    }
   ],
   "source": [
    "df.columns = ['Parent', 'Child', 'g(n)', 'h(n)']\n",
    "df.style.format({'g(n)': '{:.2f}'}).background_gradient(cmap='summer_r')"
   ]
  },
  {
   "cell_type": "code",
   "execution_count": 48,
   "metadata": {},
   "outputs": [],
   "source": [
    "df['g(n)'] = df['g(n)'].astype('float32') \n",
    "df['h(n)'] = df['h(n)'].astype('float32') \n",
    "path = [start]\n",
    "df2 = df.copy()"
   ]
  },
  {
   "cell_type": "code",
   "execution_count": 49,
   "metadata": {},
   "outputs": [
    {
     "data": {
      "text/html": [
       "<style  type=\"text/css\" >\n",
       "#T_29282_row0_col2,#T_29282_row0_col3,#T_29282_row0_col4{\n",
       "            background-color:  #ffff66;\n",
       "            color:  #000000;\n",
       "        }#T_29282_row1_col2,#T_29282_row1_col3,#T_29282_row1_col4{\n",
       "            background-color:  #008066;\n",
       "            color:  #f1f1f1;\n",
       "        }</style><table id=\"T_29282_\" ><thead>    <tr>        <th class=\"blank level0\" ></th>        <th class=\"col_heading level0 col0\" >Parent</th>        <th class=\"col_heading level0 col1\" >Child</th>        <th class=\"col_heading level0 col2\" >g(n)</th>        <th class=\"col_heading level0 col3\" >h(n)</th>        <th class=\"col_heading level0 col4\" >Cost</th>    </tr></thead><tbody>\n",
       "                <tr>\n",
       "                        <th id=\"T_29282_level0_row0\" class=\"row_heading level0 row0\" >0</th>\n",
       "                        <td id=\"T_29282_row0_col0\" class=\"data row0 col0\" >SHAHBAGH</td>\n",
       "                        <td id=\"T_29282_row0_col1\" class=\"data row0 col1\" >PARIBAGH</td>\n",
       "                        <td id=\"T_29282_row0_col2\" class=\"data row0 col2\" >0.80</td>\n",
       "                        <td id=\"T_29282_row0_col3\" class=\"data row0 col3\" >20.00</td>\n",
       "                        <td id=\"T_29282_row0_col4\" class=\"data row0 col4\" >20.80</td>\n",
       "            </tr>\n",
       "            <tr>\n",
       "                        <th id=\"T_29282_level0_row1\" class=\"row_heading level0 row1\" >1</th>\n",
       "                        <td id=\"T_29282_row1_col0\" class=\"data row1 col0\" >SHAHBAGH</td>\n",
       "                        <td id=\"T_29282_row1_col1\" class=\"data row1 col1\" >KAWRAN BAZAR</td>\n",
       "                        <td id=\"T_29282_row1_col2\" class=\"data row1 col2\" >1.60</td>\n",
       "                        <td id=\"T_29282_row1_col3\" class=\"data row1 col3\" >35.00</td>\n",
       "                        <td id=\"T_29282_row1_col4\" class=\"data row1 col4\" >36.60</td>\n",
       "            </tr>\n",
       "    </tbody></table>"
      ],
      "text/plain": [
       "<pandas.io.formats.style.Styler at 0x1bb7cdaffd0>"
      ]
     },
     "metadata": {},
     "output_type": "display_data"
    },
    {
     "data": {
      "text/html": [
       "<style  type=\"text/css\" >\n",
       "#T_2c81f_row0_col2,#T_2c81f_row0_col3,#T_2c81f_row0_col4{\n",
       "            background-color:  #ffff66;\n",
       "            color:  #000000;\n",
       "        }</style><table id=\"T_2c81f_\" ><thead>    <tr>        <th class=\"blank level0\" ></th>        <th class=\"col_heading level0 col0\" >Parent</th>        <th class=\"col_heading level0 col1\" >Child</th>        <th class=\"col_heading level0 col2\" >g(n)</th>        <th class=\"col_heading level0 col3\" >h(n)</th>        <th class=\"col_heading level0 col4\" >Cost</th>    </tr></thead><tbody>\n",
       "                <tr>\n",
       "                        <th id=\"T_2c81f_level0_row0\" class=\"row_heading level0 row0\" >0</th>\n",
       "                        <td id=\"T_2c81f_row0_col0\" class=\"data row0 col0\" >PARIBAGH</td>\n",
       "                        <td id=\"T_2c81f_row0_col1\" class=\"data row0 col1\" >BANGLA MOTOR</td>\n",
       "                        <td id=\"T_2c81f_row0_col2\" class=\"data row0 col2\" >0.40</td>\n",
       "                        <td id=\"T_2c81f_row0_col3\" class=\"data row0 col3\" >10.00</td>\n",
       "                        <td id=\"T_2c81f_row0_col4\" class=\"data row0 col4\" >10.40</td>\n",
       "            </tr>\n",
       "    </tbody></table>"
      ],
      "text/plain": [
       "<pandas.io.formats.style.Styler at 0x1bb7cd19970>"
      ]
     },
     "metadata": {},
     "output_type": "display_data"
    },
    {
     "data": {
      "text/html": [
       "<style  type=\"text/css\" >\n",
       "#T_6654c_row0_col2,#T_6654c_row0_col3,#T_6654c_row0_col4{\n",
       "            background-color:  #ffff66;\n",
       "            color:  #000000;\n",
       "        }</style><table id=\"T_6654c_\" ><thead>    <tr>        <th class=\"blank level0\" ></th>        <th class=\"col_heading level0 col0\" >Parent</th>        <th class=\"col_heading level0 col1\" >Child</th>        <th class=\"col_heading level0 col2\" >g(n)</th>        <th class=\"col_heading level0 col3\" >h(n)</th>        <th class=\"col_heading level0 col4\" >Cost</th>    </tr></thead><tbody>\n",
       "                <tr>\n",
       "                        <th id=\"T_6654c_level0_row0\" class=\"row_heading level0 row0\" >0</th>\n",
       "                        <td id=\"T_6654c_row0_col0\" class=\"data row0 col0\" >BANGLA MOTOR</td>\n",
       "                        <td id=\"T_6654c_row0_col1\" class=\"data row0 col1\" >KAWRAN BAZAR</td>\n",
       "                        <td id=\"T_6654c_row0_col2\" class=\"data row0 col2\" >0.46</td>\n",
       "                        <td id=\"T_6654c_row0_col3\" class=\"data row0 col3\" >10.00</td>\n",
       "                        <td id=\"T_6654c_row0_col4\" class=\"data row0 col4\" >10.46</td>\n",
       "            </tr>\n",
       "    </tbody></table>"
      ],
      "text/plain": [
       "<pandas.io.formats.style.Styler at 0x1bb7cd18a30>"
      ]
     },
     "metadata": {},
     "output_type": "display_data"
    },
    {
     "data": {
      "text/html": [
       "<style  type=\"text/css\" >\n",
       "#T_9f650_row0_col2,#T_9f650_row0_col3,#T_9f650_row0_col4{\n",
       "            background-color:  #ffff66;\n",
       "            color:  #000000;\n",
       "        }#T_9f650_row1_col2,#T_9f650_row1_col3,#T_9f650_row1_col4{\n",
       "            background-color:  #008066;\n",
       "            color:  #f1f1f1;\n",
       "        }</style><table id=\"T_9f650_\" ><thead>    <tr>        <th class=\"blank level0\" ></th>        <th class=\"col_heading level0 col0\" >Parent</th>        <th class=\"col_heading level0 col1\" >Child</th>        <th class=\"col_heading level0 col2\" >g(n)</th>        <th class=\"col_heading level0 col3\" >h(n)</th>        <th class=\"col_heading level0 col4\" >Cost</th>    </tr></thead><tbody>\n",
       "                <tr>\n",
       "                        <th id=\"T_9f650_level0_row0\" class=\"row_heading level0 row0\" >0</th>\n",
       "                        <td id=\"T_9f650_row0_col0\" class=\"data row0 col0\" >KAWRAN BAZAR</td>\n",
       "                        <td id=\"T_9f650_row0_col1\" class=\"data row0 col1\" >PANTHAPATH</td>\n",
       "                        <td id=\"T_9f650_row0_col2\" class=\"data row0 col2\" >0.60</td>\n",
       "                        <td id=\"T_9f650_row0_col3\" class=\"data row0 col3\" >15.00</td>\n",
       "                        <td id=\"T_9f650_row0_col4\" class=\"data row0 col4\" >15.60</td>\n",
       "            </tr>\n",
       "            <tr>\n",
       "                        <th id=\"T_9f650_level0_row1\" class=\"row_heading level0 row1\" >1</th>\n",
       "                        <td id=\"T_9f650_row1_col0\" class=\"data row1 col0\" >KAWRAN BAZAR</td>\n",
       "                        <td id=\"T_9f650_row1_col1\" class=\"data row1 col1\" >FARMGATE</td>\n",
       "                        <td id=\"T_9f650_row1_col2\" class=\"data row1 col2\" >0.90</td>\n",
       "                        <td id=\"T_9f650_row1_col3\" class=\"data row1 col3\" >25.00</td>\n",
       "                        <td id=\"T_9f650_row1_col4\" class=\"data row1 col4\" >25.90</td>\n",
       "            </tr>\n",
       "    </tbody></table>"
      ],
      "text/plain": [
       "<pandas.io.formats.style.Styler at 0x1bb7cdaf970>"
      ]
     },
     "metadata": {},
     "output_type": "display_data"
    },
    {
     "data": {
      "text/html": [
       "<style  type=\"text/css\" >\n",
       "#T_16482_row0_col2,#T_16482_row0_col3,#T_16482_row0_col4{\n",
       "            background-color:  #ffff66;\n",
       "            color:  #000000;\n",
       "        }</style><table id=\"T_16482_\" ><thead>    <tr>        <th class=\"blank level0\" ></th>        <th class=\"col_heading level0 col0\" >Parent</th>        <th class=\"col_heading level0 col1\" >Child</th>        <th class=\"col_heading level0 col2\" >g(n)</th>        <th class=\"col_heading level0 col3\" >h(n)</th>        <th class=\"col_heading level0 col4\" >Cost</th>    </tr></thead><tbody>\n",
       "                <tr>\n",
       "                        <th id=\"T_16482_level0_row0\" class=\"row_heading level0 row0\" >0</th>\n",
       "                        <td id=\"T_16482_row0_col0\" class=\"data row0 col0\" >PANTHAPATH</td>\n",
       "                        <td id=\"T_16482_row0_col1\" class=\"data row0 col1\" >UAP</td>\n",
       "                        <td id=\"T_16482_row0_col2\" class=\"data row0 col2\" >0.45</td>\n",
       "                        <td id=\"T_16482_row0_col3\" class=\"data row0 col3\" >10.00</td>\n",
       "                        <td id=\"T_16482_row0_col4\" class=\"data row0 col4\" >10.45</td>\n",
       "            </tr>\n",
       "    </tbody></table>"
      ],
      "text/plain": [
       "<pandas.io.formats.style.Styler at 0x1bb7cdab220>"
      ]
     },
     "metadata": {},
     "output_type": "display_data"
    }
   ],
   "source": [
    "path_cost = 0\n",
    "\n",
    "while True:\n",
    "    if start == goal:\n",
    "        break\n",
    "\n",
    "    sd = df2[df2.Parent == start]\n",
    "    sd['Cost'] = sd[['g(n)', 'h(n)']].sum(axis=1)\n",
    "    sd = sd.sort_values(by='Cost', ascending=True).reset_index(drop=True)\n",
    "    sd2 = sd.style.format({'g(n)': '{:.2f}', 'h(n)': '{:.2f}',\n",
    "                            'Cost': '{:.2f}'}).background_gradient(cmap='summer_r')\n",
    "    display(sd2)\n",
    "    start = sd.loc[0].Child\n",
    "    path_cost += sd.loc[0]['g(n)']\n",
    "    path.append(start)"
   ]
  },
  {
   "cell_type": "code",
   "execution_count": 50,
   "metadata": {},
   "outputs": [
    {
     "name": "stdout",
     "output_type": "stream",
     "text": [
      "Shortes Path: ['SHAHBAGH', 'PARIBAGH', 'BANGLA MOTOR', 'KAWRAN BAZAR', 'PANTHAPATH', 'UAP']\n"
     ]
    }
   ],
   "source": [
    "path_cost += list(df2[df2['Child'] == goal]['h(n)'])[0]\n",
    "print('Shortes Path: {}'.format(path))"
   ]
  },
  {
   "cell_type": "code",
   "execution_count": 51,
   "metadata": {},
   "outputs": [
    {
     "name": "stdout",
     "output_type": "stream",
     "text": [
      "Total path cost is: 12.71.\n"
     ]
    }
   ],
   "source": [
    "print('Total path cost is: {:.2f}.'.format(path_cost))"
   ]
  }
 ],
 "metadata": {
  "kernelspec": {
   "display_name": "Python 3",
   "language": "python",
   "name": "python3"
  },
  "language_info": {
   "codemirror_mode": {
    "name": "ipython",
    "version": 3
   },
   "file_extension": ".py",
   "mimetype": "text/x-python",
   "name": "python",
   "nbconvert_exporter": "python",
   "pygments_lexer": "ipython3",
   "version": "3.8.8"
  }
 },
 "nbformat": 4,
 "nbformat_minor": 4
}
