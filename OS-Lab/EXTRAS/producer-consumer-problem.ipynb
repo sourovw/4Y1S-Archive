{
  "cells": [
    {
      "cell_type": "markdown",
      "metadata": {
        "colab_type": "text",
        "id": "view-in-github"
      },
      "source": [
        "<a href=\"https://colab.research.google.com/github/sourovw/4Y1S-Archive/blob/main/OS-Lab/EXTRAS/producer-consumer-problem.ipynb\" target=\"_parent\"><img src=\"https://colab.research.google.com/assets/colab-badge.svg\" alt=\"Open In Colab\"/></a>"
      ]
    },
    {
      "cell_type": "markdown",
      "metadata": {
        "id": "Mhkv0Kv53y6e"
      },
      "source": [
        "# **Producer-Consumer Problem**"
      ]
    },
    {
      "cell_type": "code",
      "execution_count": 3,
      "metadata": {
        "colab": {
          "base_uri": "https://localhost:8080/"
        },
        "id": "po7qU68u80Mn",
        "outputId": "669c44ad-29e7-427e-d563-d98f222f54f9"
      },
      "outputs": [
        {
          "name": "stdout",
          "output_type": "stream",
          "text": [
            "Initialize buffer size: 6\n",
            "\n",
            "1.Producer\n",
            "2.Consumer\n",
            "3.Exit\n",
            "\n",
            "Enter choice: 1\n",
            "Producer produced item 1\n",
            "\n",
            "1.Producer\n",
            "2.Consumer\n",
            "3.Exit\n",
            "\n",
            "Enter choice: 1\n",
            "Producer produced item 2\n",
            "\n",
            "1.Producer\n",
            "2.Consumer\n",
            "3.Exit\n",
            "\n",
            "Enter choice: 2\n",
            "Consumer consumed item 2\n",
            "\n",
            "1.Producer\n",
            "2.Consumer\n",
            "3.Exit\n",
            "\n",
            "Enter choice: 2\n",
            "Consumer consumed item 1\n",
            "\n",
            "1.Producer\n",
            "2.Consumer\n",
            "3.Exit\n",
            "\n",
            "Enter choice: 2\n",
            "Buffer is empty\n",
            "\n",
            "1.Producer\n",
            "2.Consumer\n",
            "3.Exit\n",
            "\n",
            "Enter choice: 3\n"
          ]
        }
      ],
      "source": [
        "buffer = int(input('Initialize buffer size: '))\n",
        "ls = []\n",
        "\n",
        "while True:\n",
        "    choice = int(input('\\n1.Producer\\n2.Consumer\\n3.Exit\\n\\nEnter choice: '))\n",
        "\n",
        "    if choice == 3:\n",
        "        break\n",
        "    elif choice == 1:\n",
        "        if len(ls) == buffer:\n",
        "            print('Buffer is full')\n",
        "        else:\n",
        "            ls.append(1)\n",
        "            print('Producer produced item {}'.format(len(ls)))\n",
        "    else:\n",
        "        if len(ls) == 0:\n",
        "            print('Buffer is empty')\n",
        "        else:   \n",
        "            print('Consumer consumed item {}'.format(len(ls)))\n",
        "            ls.pop()"
      ]
    }
  ],
  "metadata": {
    "colab": {
      "collapsed_sections": [],
      "include_colab_link": true,
      "name": "producer-consumer-problem.ipynb",
      "provenance": []
    },
    "kernelspec": {
      "display_name": "Python 3",
      "name": "python3"
    },
    "language_info": {
      "name": "python"
    }
  },
  "nbformat": 4,
  "nbformat_minor": 0
}
