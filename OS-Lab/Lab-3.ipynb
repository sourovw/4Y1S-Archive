{
  "nbformat": 4,
  "nbformat_minor": 0,
  "metadata": {
    "colab": {
      "name": "Lab-3.ipynb",
      "provenance": [],
      "authorship_tag": "ABX9TyNcU4ITlOiDcma2jxHh0gLN",
      "include_colab_link": true
    },
    "kernelspec": {
      "name": "python3",
      "display_name": "Python 3"
    },
    "language_info": {
      "name": "python"
    }
  },
  "cells": [
    {
      "cell_type": "markdown",
      "metadata": {
        "id": "view-in-github",
        "colab_type": "text"
      },
      "source": [
        "<a href=\"https://colab.research.google.com/github/sourovw/4Y1S-Archive/blob/main/OS-Lab/Lab-3.ipynb\" target=\"_parent\"><img src=\"https://colab.research.google.com/assets/colab-badge.svg\" alt=\"Open In Colab\"/></a>"
      ]
    },
    {
      "cell_type": "markdown",
      "metadata": {
        "id": "5z1bANTwonQH"
      },
      "source": [
        "# **FCFS Disk Scheduling**"
      ]
    },
    {
      "cell_type": "code",
      "metadata": {
        "colab": {
          "base_uri": "https://localhost:8080/"
        },
        "id": "s74akI_Uoloy",
        "outputId": "475288df-648f-456b-dffc-9cb1c2f38249"
      },
      "source": [
        "queue = list(map(int, input('Queue: ').split()))\n",
        "head = int(input('Head: '))"
      ],
      "execution_count": 1,
      "outputs": [
        {
          "name": "stdout",
          "output_type": "stream",
          "text": [
            "Queue: 98 183 37 122 14 124 65 67\n",
            "Head: 53\n"
          ]
        }
      ]
    },
    {
      "cell_type": "code",
      "metadata": {
        "colab": {
          "base_uri": "https://localhost:8080/"
        },
        "id": "pTTjmhvAowQE",
        "outputId": "7cceabc4-8923-4434-a42f-f985b2ddde41"
      },
      "source": [
        "q = queue.copy()\n",
        "q.insert(0, head)\n",
        "print(q)"
      ],
      "execution_count": 2,
      "outputs": [
        {
          "output_type": "stream",
          "name": "stdout",
          "text": [
            "[53, 98, 183, 37, 122, 14, 124, 65, 67]\n"
          ]
        }
      ]
    },
    {
      "cell_type": "code",
      "metadata": {
        "colab": {
          "base_uri": "https://localhost:8080/"
        },
        "id": "uQ6TltsRox0y",
        "outputId": "7468d219-9eb5-4779-c879-1931812103e6"
      },
      "source": [
        "cont = []\n",
        "n = len(q)\n",
        "\n",
        "print(f'Queue: {queue}\\nHead: {head}\\n')\n",
        "print(f'Path: {q}\\nEquation:', end=' ')\n",
        "\n",
        "for i in range(n - 1):\n",
        "    print(f'({q[i+1]} - {q[i]})', end='')\n",
        "    cont.append(abs(q[i+1] - q[i]))\n",
        "    if i < n - 2:\n",
        "        print(end=' + ')\n",
        "\n",
        "print(f'\\nIllustration shows total head movement of {sum(cont)} cylinders.')"
      ],
      "execution_count": 3,
      "outputs": [
        {
          "output_type": "stream",
          "name": "stdout",
          "text": [
            "Queue: [98, 183, 37, 122, 14, 124, 65, 67]\n",
            "Head: 53\n",
            "\n",
            "Path: [53, 98, 183, 37, 122, 14, 124, 65, 67]\n",
            "Equation: (98 - 53) + (183 - 98) + (37 - 183) + (122 - 37) + (14 - 122) + (124 - 14) + (65 - 124) + (67 - 65)\n",
            "Illustration shows total head movement of 640 cylinders.\n"
          ]
        }
      ]
    },
    {
      "cell_type": "markdown",
      "metadata": {
        "id": "uDyHehiGo0PL"
      },
      "source": [
        "# **SSTF Disk Scheduling**"
      ]
    },
    {
      "cell_type": "code",
      "metadata": {
        "colab": {
          "base_uri": "https://localhost:8080/"
        },
        "id": "B04ewfRPpA6A",
        "outputId": "30e25151-6ec7-4288-f8ff-61925e02d960"
      },
      "source": [
        "queue = list(map(int, input('Queue: ').split()))\n",
        "head = int(input('Head: '))"
      ],
      "execution_count": 6,
      "outputs": [
        {
          "name": "stdout",
          "output_type": "stream",
          "text": [
            "Queue: 98 183 37 122 14 124 65 67\n",
            "Head: 53\n"
          ]
        }
      ]
    },
    {
      "cell_type": "code",
      "metadata": {
        "colab": {
          "base_uri": "https://localhost:8080/"
        },
        "id": "IzbR21FDpBhn",
        "outputId": "dd7de813-c5f9-4696-ec90-3bd53ccafe8a"
      },
      "source": [
        "q = queue.copy()\n",
        "q.insert(0, head)\n",
        "q.sort()\n",
        "print(q)"
      ],
      "execution_count": 7,
      "outputs": [
        {
          "output_type": "stream",
          "name": "stdout",
          "text": [
            "[14, 37, 53, 65, 67, 98, 122, 124, 183]\n"
          ]
        }
      ]
    },
    {
      "cell_type": "code",
      "metadata": {
        "colab": {
          "base_uri": "https://localhost:8080/"
        },
        "id": "OAdHG4CcpDgV",
        "outputId": "e5e1d786-29b2-4a91-da89-e36525403920"
      },
      "source": [
        "cont = [head]\n",
        "\n",
        "for k in q:\n",
        "    i = (q.index(head))\n",
        " \n",
        "    prev = q[i - 1]\n",
        "    next = q[i + 1]\n",
        " \n",
        "    x = abs(head - prev)\n",
        "    y = abs(head - next)\n",
        " \n",
        "    if (x < y):\n",
        "        cont.append(prev)\n",
        "        q.pop(q.index(head))\n",
        "        head = prev\n",
        "    else:\n",
        "        cont.append(next)\n",
        "        q.pop(q.index(head))\n",
        "        head = next\n",
        "\n",
        "cont += q\n",
        "print(cont)"
      ],
      "execution_count": 8,
      "outputs": [
        {
          "output_type": "stream",
          "name": "stdout",
          "text": [
            "[53, 65, 67, 37, 14, 98, 98, 122, 124, 183]\n"
          ]
        }
      ]
    },
    {
      "cell_type": "code",
      "metadata": {
        "colab": {
          "base_uri": "https://localhost:8080/"
        },
        "id": "zwPcyBLGpFkx",
        "outputId": "9c109336-f951-42b5-dccc-2fc33f5ae7e5"
      },
      "source": [
        "new_cont = []\n",
        "n = len(cont)\n",
        "\n",
        "print(f'Queue: {queue}\\nHead: {head}\\n')\n",
        "print(f'Path: {cont}\\nEquation:', end=' ')\n",
        "\n",
        "for i in range(n - 1):\n",
        "    print(f'({cont[i+1]} - {cont[i]})', end='')\n",
        "    new_cont.append(abs(cont[i+1] - cont[i]))\n",
        "    if i < n - 2:\n",
        "        print(end=' + ')\n",
        "\n",
        "print(f'\\nIllustration shows total head movement of {sum(new_cont)} cylinders.')"
      ],
      "execution_count": 9,
      "outputs": [
        {
          "output_type": "stream",
          "name": "stdout",
          "text": [
            "Queue: [98, 183, 37, 122, 14, 124, 65, 67]\n",
            "Head: 98\n",
            "\n",
            "Path: [53, 65, 67, 37, 14, 98, 98, 122, 124, 183]\n",
            "Equation: (65 - 53) + (67 - 65) + (37 - 67) + (14 - 37) + (98 - 14) + (98 - 98) + (122 - 98) + (124 - 122) + (183 - 124)\n",
            "Illustration shows total head movement of 236 cylinders.\n"
          ]
        }
      ]
    }
  ]
}