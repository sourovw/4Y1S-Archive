{
  "nbformat": 4,
  "nbformat_minor": 0,
  "metadata": {
    "colab": {
      "name": "Lab-4.ipynb",
      "provenance": [],
      "collapsed_sections": [],
      "authorship_tag": "ABX9TyO8REpNFAw+F5eeQW8rnWvr",
      "include_colab_link": true
    },
    "kernelspec": {
      "name": "python3",
      "display_name": "Python 3"
    },
    "language_info": {
      "name": "python"
    }
  },
  "cells": [
    {
      "cell_type": "markdown",
      "metadata": {
        "id": "view-in-github",
        "colab_type": "text"
      },
      "source": [
        "<a href=\"https://colab.research.google.com/github/sourovw/4Y1S-Archive/blob/main/OS-Lab/Lab-4.ipynb\" target=\"_parent\"><img src=\"https://colab.research.google.com/assets/colab-badge.svg\" alt=\"Open In Colab\"/></a>"
      ]
    },
    {
      "cell_type": "markdown",
      "metadata": {
        "id": "NZPGkOrFpp0Q"
      },
      "source": [
        "# **SCAN Disk Scheduling**"
      ]
    },
    {
      "cell_type": "code",
      "metadata": {
        "id": "JDwAj4EJpvjY",
        "outputId": "2cdacb09-5ab3-42ab-8d4e-b0377e62af1f",
        "colab": {
          "base_uri": "https://localhost:8080/"
        }
      },
      "source": [
        "queue = list(map(int, input('Queue: ').split()))\n",
        "head = int(input('Head: '))"
      ],
      "execution_count": 1,
      "outputs": [
        {
          "name": "stdout",
          "output_type": "stream",
          "text": [
            "Queue: 98 183 37 122 14 124 65 67\n",
            "Head: 53\n"
          ]
        }
      ]
    },
    {
      "cell_type": "code",
      "metadata": {
        "id": "E-IqQYU2qE62"
      },
      "source": [
        "q = queue.copy()\n",
        "q.insert(0, head)\n",
        "q.sort()"
      ],
      "execution_count": 2,
      "outputs": []
    },
    {
      "cell_type": "code",
      "metadata": {
        "id": "4itz1wz2qFDy",
        "outputId": "3254474e-edbf-423d-8db4-8ac338a0c346",
        "colab": {
          "base_uri": "https://localhost:8080/"
        }
      },
      "source": [
        "l1 = q[:q.index(head)+1]\n",
        "l1.sort(reverse=True)\n",
        "l1.append(0)\n",
        "print(l1)"
      ],
      "execution_count": 3,
      "outputs": [
        {
          "output_type": "stream",
          "name": "stdout",
          "text": [
            "[53, 37, 14, 0]\n"
          ]
        }
      ]
    },
    {
      "cell_type": "code",
      "metadata": {
        "id": "YIaBHsFEqFKJ",
        "outputId": "e1eba39f-020a-44d8-bc8e-1ab376d727aa",
        "colab": {
          "base_uri": "https://localhost:8080/"
        }
      },
      "source": [
        "l2 = q[q.index(head)+1:]\n",
        "l3 = l1 + l2\n",
        "print(l3)"
      ],
      "execution_count": 4,
      "outputs": [
        {
          "output_type": "stream",
          "name": "stdout",
          "text": [
            "[53, 37, 14, 0, 65, 67, 98, 122, 124, 183]\n"
          ]
        }
      ]
    },
    {
      "cell_type": "code",
      "metadata": {
        "id": "1z4ydY_uqFQR",
        "outputId": "570bbc47-8313-49ab-b790-1633ec47c8d0",
        "colab": {
          "base_uri": "https://localhost:8080/"
        }
      },
      "source": [
        "l2.insert(0, 0)\n",
        "print(l2)"
      ],
      "execution_count": 5,
      "outputs": [
        {
          "output_type": "stream",
          "name": "stdout",
          "text": [
            "[0, 65, 67, 98, 122, 124, 183]\n"
          ]
        }
      ]
    },
    {
      "cell_type": "code",
      "metadata": {
        "id": "3pl10_7dqFVe",
        "outputId": "81af1a64-9aa4-4105-eab9-9fdded0c7fae",
        "colab": {
          "base_uri": "https://localhost:8080/"
        }
      },
      "source": [
        "cont = []\n",
        "\n",
        "m = len(l1)\n",
        "n = len(l2)\n",
        "\n",
        "print(f'Queue: {queue}\\nHead: {head}\\n')\n",
        "print(f'Path: {l3}\\nEquation:', end=' ')\n",
        "\n",
        "for i in range(m - 1):\n",
        "    print(f'({l1[i]} - {l1[i + 1]})', end='')\n",
        "    cont.append(abs(l1[i] - l1[i + 1]))\n",
        "    if i < (m - 2):\n",
        "        print(end=' + ')\n",
        "\n",
        "print(end=' + ')\n",
        "\n",
        "for j in range(n - 1):\n",
        "    print(f'({l2[j+1]} - {l2[j]})', end='')\n",
        "    cont.append(abs(l2[j+1] - l2[j]))\n",
        "    if j < (n - 2):\n",
        "        print(end=' + ')\n",
        "\n",
        "print(f'\\nIllustration shows total head movement of {sum(cont)} cylinders')"
      ],
      "execution_count": 6,
      "outputs": [
        {
          "output_type": "stream",
          "name": "stdout",
          "text": [
            "Queue: [98, 183, 37, 122, 14, 124, 65, 67]\n",
            "Head: 53\n",
            "\n",
            "Path: [53, 37, 14, 0, 65, 67, 98, 122, 124, 183]\n",
            "Equation: (53 - 37) + (37 - 14) + (14 - 0) + (65 - 0) + (67 - 65) + (98 - 67) + (122 - 98) + (124 - 122) + (183 - 124)\n",
            "Illustration shows total head movement of 236 cylinders\n"
          ]
        }
      ]
    },
    {
      "cell_type": "markdown",
      "metadata": {
        "id": "eZr64silpxg9"
      },
      "source": [
        "# **C-SCAN Disk Scheduling**"
      ]
    },
    {
      "cell_type": "code",
      "metadata": {
        "id": "ODZswsI0p_fj",
        "outputId": "783c12fe-07fa-4dd3-e962-15f5f3c4ee74",
        "colab": {
          "base_uri": "https://localhost:8080/"
        }
      },
      "source": [
        "queue = list(map(int, input('Queue: ').split()))\n",
        "head = int(input('Head: '))"
      ],
      "execution_count": 7,
      "outputs": [
        {
          "name": "stdout",
          "output_type": "stream",
          "text": [
            "Queue: 98 183 37 122 14 124 65 67\n",
            "Head: 53\n"
          ]
        }
      ]
    },
    {
      "cell_type": "code",
      "metadata": {
        "id": "y8sZwFY6qZtL"
      },
      "source": [
        "q = queue.copy()\n",
        "q.insert(0, head)\n",
        "q.sort()"
      ],
      "execution_count": 8,
      "outputs": []
    },
    {
      "cell_type": "code",
      "metadata": {
        "id": "smyAAsSkqZxW"
      },
      "source": [
        "l1 = q[:q.index(head)]\n",
        "l1.insert(0, 0)"
      ],
      "execution_count": 9,
      "outputs": []
    },
    {
      "cell_type": "code",
      "metadata": {
        "id": "Yk1zfQ2MqZ1i"
      },
      "source": [
        "l2 = q[q.index(head):]\n",
        "l2.append(199)"
      ],
      "execution_count": 10,
      "outputs": []
    },
    {
      "cell_type": "code",
      "metadata": {
        "id": "r3lZW5H5qZ5j",
        "outputId": "3c6a6030-d032-49bf-dc34-56b046dfd5ec",
        "colab": {
          "base_uri": "https://localhost:8080/"
        }
      },
      "source": [
        "l3 = l2 + l1\n",
        "print(l3)"
      ],
      "execution_count": 11,
      "outputs": [
        {
          "output_type": "stream",
          "name": "stdout",
          "text": [
            "[53, 65, 67, 98, 122, 124, 183, 199, 0, 14, 37]\n"
          ]
        }
      ]
    },
    {
      "cell_type": "code",
      "metadata": {
        "id": "Cd7pIgORqZ9v",
        "outputId": "b413e35b-62a5-4056-d0a7-1bb6af4e00df",
        "colab": {
          "base_uri": "https://localhost:8080/"
        }
      },
      "source": [
        "cont = []\n",
        "n = len(l3)\n",
        "\n",
        "print(f'Queue: {queue}\\nHead: {head}\\n')\n",
        "print(f'Path: {l3}\\nEquation:', end=' ')\n",
        "\n",
        "for i in range(n - 1):\n",
        "    print(f'({l3[i+1]} - {l3[i]})', end='')\n",
        "    cont.append(abs(l3[i+1] - l3[i]))\n",
        "    if i < n - 2:\n",
        "        print(end=' + ')\n",
        "\n",
        "print(f'\\nIllustration shows total head movement of {sum(cont)} cylinders.')"
      ],
      "execution_count": 12,
      "outputs": [
        {
          "output_type": "stream",
          "name": "stdout",
          "text": [
            "Queue: [98, 183, 37, 122, 14, 124, 65, 67]\n",
            "Head: 53\n",
            "\n",
            "Path: [53, 65, 67, 98, 122, 124, 183, 199, 0, 14, 37]\n",
            "Equation: (65 - 53) + (67 - 65) + (98 - 67) + (122 - 98) + (124 - 122) + (183 - 124) + (199 - 183) + (0 - 199) + (14 - 0) + (37 - 14)\n",
            "Illustration shows total head movement of 382 cylinders.\n"
          ]
        }
      ]
    },
    {
      "cell_type": "markdown",
      "metadata": {
        "id": "ZBxYTlqO0TZ4"
      },
      "source": [
        "# **C-LOOK Disk Scheduling**"
      ]
    },
    {
      "cell_type": "code",
      "metadata": {
        "colab": {
          "base_uri": "https://localhost:8080/"
        },
        "id": "LPh6VmfVrsQt",
        "outputId": "285e8d79-1816-4cf8-8ee8-29d08eefc10e"
      },
      "source": [
        "queue = list(map(int, input('Queue: ').split()))\n",
        "head = int(input('Head: '))"
      ],
      "execution_count": 13,
      "outputs": [
        {
          "name": "stdout",
          "output_type": "stream",
          "text": [
            "Queue: 98 183 37 122 14 124 65 67\n",
            "Head: 53\n"
          ]
        }
      ]
    },
    {
      "cell_type": "code",
      "metadata": {
        "id": "OjiVN3YLuJLF"
      },
      "source": [
        "q = queue.copy()\n",
        "q.insert(0, head)\n",
        "q.sort()"
      ],
      "execution_count": 14,
      "outputs": []
    },
    {
      "cell_type": "code",
      "metadata": {
        "colab": {
          "base_uri": "https://localhost:8080/"
        },
        "id": "QFwu1zPYuv2u",
        "outputId": "38a3b3c9-e253-45df-99a3-10ebad59d712"
      },
      "source": [
        "l1 = q[:q.index(head)]\n",
        "print(l1)"
      ],
      "execution_count": 15,
      "outputs": [
        {
          "output_type": "stream",
          "name": "stdout",
          "text": [
            "[14, 37]\n"
          ]
        }
      ]
    },
    {
      "cell_type": "code",
      "metadata": {
        "colab": {
          "base_uri": "https://localhost:8080/"
        },
        "id": "fM0NG0MCF6tT",
        "outputId": "2b76b203-c52c-448e-e6bb-706b9406b24b"
      },
      "source": [
        "l2 = q[q.index(head):]\n",
        "print(l2)"
      ],
      "execution_count": 16,
      "outputs": [
        {
          "output_type": "stream",
          "name": "stdout",
          "text": [
            "[53, 65, 67, 98, 122, 124, 183]\n"
          ]
        }
      ]
    },
    {
      "cell_type": "code",
      "metadata": {
        "colab": {
          "base_uri": "https://localhost:8080/"
        },
        "id": "NseF9LVfvJP8",
        "outputId": "28b5d40b-a6d3-4ed0-d327-1ebcd477bffa"
      },
      "source": [
        "l3 = l2 + l1\n",
        "print(l3)"
      ],
      "execution_count": 17,
      "outputs": [
        {
          "output_type": "stream",
          "name": "stdout",
          "text": [
            "[53, 65, 67, 98, 122, 124, 183, 14, 37]\n"
          ]
        }
      ]
    },
    {
      "cell_type": "code",
      "metadata": {
        "colab": {
          "base_uri": "https://localhost:8080/"
        },
        "id": "Tnfuknw9vYaQ",
        "outputId": "22fc4b2a-35da-4a35-b7d4-cf96c6c78ed5"
      },
      "source": [
        "cont = []\n",
        "n = len(l3)\n",
        "\n",
        "print(f'Queue: {queue}\\nHead: {head}\\n')\n",
        "print(f'Path: {l3}\\nEquation:', end=' ')\n",
        "\n",
        "for i in range(n - 1):\n",
        "    print(f'({l3[i+1]} - {l3[i]})', end='')\n",
        "    cont.append(abs(l3[i+1] - l3[i]))\n",
        "    if i < n - 2:\n",
        "        print(end=' + ')\n",
        "\n",
        "print(f'\\nIllustration shows total head movement of {sum(cont)} cylinders.')"
      ],
      "execution_count": 18,
      "outputs": [
        {
          "output_type": "stream",
          "name": "stdout",
          "text": [
            "Queue: [98, 183, 37, 122, 14, 124, 65, 67]\n",
            "Head: 53\n",
            "\n",
            "Path: [53, 65, 67, 98, 122, 124, 183, 14, 37]\n",
            "Equation: (65 - 53) + (67 - 65) + (98 - 67) + (122 - 98) + (124 - 122) + (183 - 124) + (14 - 183) + (37 - 14)\n",
            "Illustration shows total head movement of 322 cylinders.\n"
          ]
        }
      ]
    }
  ]
}
