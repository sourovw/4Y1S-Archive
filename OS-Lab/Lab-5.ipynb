{
  "nbformat": 4,
  "nbformat_minor": 0,
  "metadata": {
    "colab": {
      "name": "Lab-5.ipynb",
      "provenance": [],
      "collapsed_sections": [],
      "include_colab_link": true
    },
    "kernelspec": {
      "name": "python3",
      "display_name": "Python 3"
    },
    "language_info": {
      "name": "python"
    }
  },
  "cells": [
    {
      "cell_type": "markdown",
      "metadata": {
        "id": "view-in-github",
        "colab_type": "text"
      },
      "source": [
        "<a href=\"https://colab.research.google.com/github/sourovw/4Y1S-Archive/blob/main/OS-Lab/Lab-5.ipynb\" target=\"_parent\"><img src=\"https://colab.research.google.com/assets/colab-badge.svg\" alt=\"Open In Colab\"/></a>"
      ]
    },
    {
      "cell_type": "markdown",
      "metadata": {
        "id": "MsHDMhN5fpuK"
      },
      "source": [
        "# **FIFO Page Replacement**"
      ]
    },
    {
      "cell_type": "code",
      "metadata": {
        "id": "pQlHj8r-f_Je",
        "outputId": "3464ec3f-3763-4e2e-a134-4d0bbd25342f",
        "colab": {
          "base_uri": "https://localhost:8080/"
        }
      },
      "source": [
        "rs = list(map(int, input('Reference Sting: ').split()))\n",
        "fs = int(input('Total Frame: '))"
      ],
      "execution_count": 66,
      "outputs": [
        {
          "name": "stdout",
          "output_type": "stream",
          "text": [
            "Reference Sting: 1 8 1 0 1 0 0 4 4 0 0 1 0 1 8 1\n",
            "Total Frame: 3\n"
          ]
        }
      ]
    },
    {
      "cell_type": "code",
      "metadata": {
        "id": "_OLSOnvkf-5N",
        "outputId": "7fbd4429-6902-4717-c0ae-5117780bdf38",
        "colab": {
          "base_uri": "https://localhost:8080/"
        }
      },
      "source": [
        "flts = 0\n",
        "cont = []\n",
        "keys = []\n",
        "table = []\n",
        "emo = [\"\\N{sleeping face}\", \"\\N{sleeping face}\", \"\\N{sleeping face}\"]\n",
        "n = len(rs)\n",
        "\n",
        "for i in range(n):\n",
        "    if (len(cont) < fs):\n",
        "        if (rs[i] not in cont):\n",
        "            cont.append(rs[i])\n",
        "            data = cont.copy()\n",
        "            table.append(data)\n",
        "            keys.append(rs[i])\n",
        "            print(cont)\n",
        "            flts += 1\n",
        "        else:\n",
        "            data = emo.copy()\n",
        "            table.append(data)\n",
        "            print('< * * * >')\n",
        "    else:\n",
        "        if (rs[i] not in cont):\n",
        "            v = keys[0]\n",
        "            keys.pop(0)\n",
        "            cont[cont.index(v)] = rs[i]\n",
        "            data = cont.copy()\n",
        "            table.append(data)\n",
        "            keys.append(rs[i])\n",
        "            print(cont)\n",
        "            flts += 1\n",
        "        else:\n",
        "            data = emo.copy()\n",
        "            table.append(data)\n",
        "            print('< * * * >')"
      ],
      "execution_count": 67,
      "outputs": [
        {
          "output_type": "stream",
          "name": "stdout",
          "text": [
            "[1]\n",
            "[1, 8]\n",
            "< * * * >\n",
            "[1, 8, 0]\n",
            "< * * * >\n",
            "< * * * >\n",
            "< * * * >\n",
            "[4, 8, 0]\n",
            "< * * * >\n",
            "< * * * >\n",
            "< * * * >\n",
            "[4, 1, 0]\n",
            "< * * * >\n",
            "< * * * >\n",
            "[4, 1, 8]\n",
            "< * * * >\n"
          ]
        }
      ]
    },
    {
      "cell_type": "code",
      "metadata": {
        "id": "P-YcFONIfu4X",
        "outputId": "49f71e5b-0485-4629-b756-33e3179adf25",
        "colab": {
          "base_uri": "https://localhost:8080/"
        }
      },
      "source": [
        "hits = (n - flts)\n",
        "print(f'Total page faults: {flts}\\nTotal hits: {hits}')"
      ],
      "execution_count": 68,
      "outputs": [
        {
          "output_type": "stream",
          "name": "stdout",
          "text": [
            "Total page faults: 6\n",
            "Total hits: 10\n"
          ]
        }
      ]
    },
    {
      "cell_type": "code",
      "metadata": {
        "id": "DLYj4uyLf2e4",
        "outputId": "d4dbf863-8d71-4d19-b0a0-dc49d271dfa4",
        "colab": {
          "base_uri": "https://localhost:8080/"
        }
      },
      "source": [
        "fr = (flts/n)*100\n",
        "hr = (hits/n)*100\n",
        "print(f'Fault Ratio: {fr:.2f}\\nHit Ratio: {hr:.2f}')"
      ],
      "execution_count": 69,
      "outputs": [
        {
          "output_type": "stream",
          "name": "stdout",
          "text": [
            "Fault Ratio: 37.50\n",
            "Hit Ratio: 62.50\n"
          ]
        }
      ]
    },
    {
      "cell_type": "code",
      "metadata": {
        "id": "3byK5jj8f2nq",
        "outputId": "1830c88d-b53f-411b-ec6d-9690790b10dd",
        "colab": {
          "base_uri": "https://localhost:8080/",
          "height": 141
        }
      },
      "source": [
        "import numpy as np\n",
        "import pandas as pd\n",
        "\n",
        "df = pd.DataFrame(table).convert_dtypes(int).T\n",
        "df = df.replace(np.nan, '', regex=True)\n",
        "df"
      ],
      "execution_count": 70,
      "outputs": [
        {
          "output_type": "execute_result",
          "data": {
            "text/html": [
              "<div>\n",
              "<style scoped>\n",
              "    .dataframe tbody tr th:only-of-type {\n",
              "        vertical-align: middle;\n",
              "    }\n",
              "\n",
              "    .dataframe tbody tr th {\n",
              "        vertical-align: top;\n",
              "    }\n",
              "\n",
              "    .dataframe thead th {\n",
              "        text-align: right;\n",
              "    }\n",
              "</style>\n",
              "<table border=\"1\" class=\"dataframe\">\n",
              "  <thead>\n",
              "    <tr style=\"text-align: right;\">\n",
              "      <th></th>\n",
              "      <th>0</th>\n",
              "      <th>1</th>\n",
              "      <th>2</th>\n",
              "      <th>3</th>\n",
              "      <th>4</th>\n",
              "      <th>5</th>\n",
              "      <th>6</th>\n",
              "      <th>7</th>\n",
              "      <th>8</th>\n",
              "      <th>9</th>\n",
              "      <th>10</th>\n",
              "      <th>11</th>\n",
              "      <th>12</th>\n",
              "      <th>13</th>\n",
              "      <th>14</th>\n",
              "      <th>15</th>\n",
              "    </tr>\n",
              "  </thead>\n",
              "  <tbody>\n",
              "    <tr>\n",
              "      <th>0</th>\n",
              "      <td>1</td>\n",
              "      <td>1</td>\n",
              "      <td>😴</td>\n",
              "      <td>1</td>\n",
              "      <td>😴</td>\n",
              "      <td>😴</td>\n",
              "      <td>😴</td>\n",
              "      <td>4</td>\n",
              "      <td>😴</td>\n",
              "      <td>😴</td>\n",
              "      <td>😴</td>\n",
              "      <td>4</td>\n",
              "      <td>😴</td>\n",
              "      <td>😴</td>\n",
              "      <td>4</td>\n",
              "      <td>😴</td>\n",
              "    </tr>\n",
              "    <tr>\n",
              "      <th>1</th>\n",
              "      <td></td>\n",
              "      <td>8</td>\n",
              "      <td>😴</td>\n",
              "      <td>8</td>\n",
              "      <td>😴</td>\n",
              "      <td>😴</td>\n",
              "      <td>😴</td>\n",
              "      <td>8</td>\n",
              "      <td>😴</td>\n",
              "      <td>😴</td>\n",
              "      <td>😴</td>\n",
              "      <td>1</td>\n",
              "      <td>😴</td>\n",
              "      <td>😴</td>\n",
              "      <td>1</td>\n",
              "      <td>😴</td>\n",
              "    </tr>\n",
              "    <tr>\n",
              "      <th>2</th>\n",
              "      <td></td>\n",
              "      <td></td>\n",
              "      <td>😴</td>\n",
              "      <td>0</td>\n",
              "      <td>😴</td>\n",
              "      <td>😴</td>\n",
              "      <td>😴</td>\n",
              "      <td>0</td>\n",
              "      <td>😴</td>\n",
              "      <td>😴</td>\n",
              "      <td>😴</td>\n",
              "      <td>0</td>\n",
              "      <td>😴</td>\n",
              "      <td>😴</td>\n",
              "      <td>8</td>\n",
              "      <td>😴</td>\n",
              "    </tr>\n",
              "  </tbody>\n",
              "</table>\n",
              "</div>"
            ],
            "text/plain": [
              "  0  1  2   3  4  5  6   7  8  9  10  11 12 13  14 15\n",
              "0  1  1  😴   1  😴  😴  😴   4  😴  😴  😴   4  😴  😴   4  😴\n",
              "1     8  😴   8  😴  😴  😴   8  😴  😴  😴   1  😴  😴   1  😴\n",
              "2        😴   0  😴  😴  😴   0  😴  😴  😴   0  😴  😴   8  😴"
            ]
          },
          "metadata": {},
          "execution_count": 70
        }
      ]
    },
    {
      "cell_type": "markdown",
      "metadata": {
        "id": "8cWMfirKeL98"
      },
      "source": [
        "# **LRU Page Replacement**"
      ]
    },
    {
      "cell_type": "code",
      "metadata": {
        "id": "Z6mibuU2eVjl",
        "outputId": "aca810da-ccde-48dc-ae47-75c3eb8efe27",
        "colab": {
          "base_uri": "https://localhost:8080/"
        }
      },
      "source": [
        "rs = list(map(int, input('Reference Sting: ').split()))\n",
        "fs = int(input('Total Frame: '))"
      ],
      "execution_count": 71,
      "outputs": [
        {
          "name": "stdout",
          "output_type": "stream",
          "text": [
            "Reference Sting: 1 8 1 0 1 0 0 4 4 0 0 1 0 1 8 1\n",
            "Total Frame: 3\n"
          ]
        }
      ]
    },
    {
      "cell_type": "code",
      "metadata": {
        "id": "xmgqshJyeZqN",
        "outputId": "23b5fa21-2d8c-430a-816d-01f9f2453ba7",
        "colab": {
          "base_uri": "https://localhost:8080/"
        }
      },
      "source": [
        "flts = 0\n",
        "cont = []\n",
        "temp = []\n",
        "table = []\n",
        "emo = [\"\\N{sleeping face}\", \"\\N{sleeping face}\", \"\\N{sleeping face}\"]\n",
        "n = len(rs)\n",
        "\n",
        "for i in range(n):\n",
        "    temp.append(rs[i])\n",
        "    if (len(cont) < fs):\n",
        "        if (rs[i] not in cont):\n",
        "            cont.append(rs[i])\n",
        "            data = cont.copy()\n",
        "            table.append(data)\n",
        "            print(cont)\n",
        "            flts += 1\n",
        "        else:\n",
        "            data = emo.copy()\n",
        "            table.append(data)\n",
        "            print('< * * * >')\n",
        "    else:\n",
        "        if (rs[i] not in cont):\n",
        "            keys = []\n",
        "\n",
        "            for x in temp:\n",
        "                if x in cont:\n",
        "                    keys.append(x)\n",
        "\n",
        "            for y in keys:\n",
        "                while (keys.count(y) > 1):\n",
        "                    keys.remove(y)\n",
        "\n",
        "            v = keys[0]\n",
        "            cont[cont.index(v)] = rs[i]\n",
        "            data = cont.copy()\n",
        "            table.append(data)\n",
        "            print(cont)\n",
        "            flts += 1\n",
        "        else:\n",
        "            data = emo.copy()\n",
        "            table.append(data)\n",
        "            print('< * * * >')"
      ],
      "execution_count": 72,
      "outputs": [
        {
          "output_type": "stream",
          "name": "stdout",
          "text": [
            "[1]\n",
            "[1, 8]\n",
            "< * * * >\n",
            "[1, 8, 0]\n",
            "< * * * >\n",
            "< * * * >\n",
            "< * * * >\n",
            "[1, 4, 0]\n",
            "< * * * >\n",
            "< * * * >\n",
            "< * * * >\n",
            "< * * * >\n",
            "< * * * >\n",
            "< * * * >\n",
            "[1, 8, 0]\n",
            "< * * * >\n"
          ]
        }
      ]
    },
    {
      "cell_type": "code",
      "metadata": {
        "id": "hrEhuSuzfN_q",
        "outputId": "2c7e4f5b-c1b4-41de-bc28-25082cf185ad",
        "colab": {
          "base_uri": "https://localhost:8080/"
        }
      },
      "source": [
        "hits = (n - flts)\n",
        "print(f'Total page faults: {flts}\\nTotal hits: {hits}')"
      ],
      "execution_count": 73,
      "outputs": [
        {
          "output_type": "stream",
          "name": "stdout",
          "text": [
            "Total page faults: 5\n",
            "Total hits: 11\n"
          ]
        }
      ]
    },
    {
      "cell_type": "code",
      "metadata": {
        "id": "s3OZ3ZKAfQTc",
        "outputId": "1bc5ce9c-4421-47fb-e1f5-c781aaff0b3f",
        "colab": {
          "base_uri": "https://localhost:8080/"
        }
      },
      "source": [
        "fr = (flts/n)*100\n",
        "hr = (hits/n)*100\n",
        "print(f'Fault Ratio: {fr:.2f}\\nHit Ratio: {hr:.2f}')"
      ],
      "execution_count": 74,
      "outputs": [
        {
          "output_type": "stream",
          "name": "stdout",
          "text": [
            "Fault Ratio: 31.25\n",
            "Hit Ratio: 68.75\n"
          ]
        }
      ]
    },
    {
      "cell_type": "code",
      "metadata": {
        "id": "ajLihCRbfUDN",
        "outputId": "615ce458-c04e-4661-ce8b-93cf3bcf0860",
        "colab": {
          "base_uri": "https://localhost:8080/",
          "height": 141
        }
      },
      "source": [
        "import numpy as np\n",
        "import pandas as pd\n",
        "\n",
        "df = pd.DataFrame(table).convert_dtypes(int).T\n",
        "df = df.replace(np.nan, '', regex=True)\n",
        "df"
      ],
      "execution_count": 75,
      "outputs": [
        {
          "output_type": "execute_result",
          "data": {
            "text/html": [
              "<div>\n",
              "<style scoped>\n",
              "    .dataframe tbody tr th:only-of-type {\n",
              "        vertical-align: middle;\n",
              "    }\n",
              "\n",
              "    .dataframe tbody tr th {\n",
              "        vertical-align: top;\n",
              "    }\n",
              "\n",
              "    .dataframe thead th {\n",
              "        text-align: right;\n",
              "    }\n",
              "</style>\n",
              "<table border=\"1\" class=\"dataframe\">\n",
              "  <thead>\n",
              "    <tr style=\"text-align: right;\">\n",
              "      <th></th>\n",
              "      <th>0</th>\n",
              "      <th>1</th>\n",
              "      <th>2</th>\n",
              "      <th>3</th>\n",
              "      <th>4</th>\n",
              "      <th>5</th>\n",
              "      <th>6</th>\n",
              "      <th>7</th>\n",
              "      <th>8</th>\n",
              "      <th>9</th>\n",
              "      <th>10</th>\n",
              "      <th>11</th>\n",
              "      <th>12</th>\n",
              "      <th>13</th>\n",
              "      <th>14</th>\n",
              "      <th>15</th>\n",
              "    </tr>\n",
              "  </thead>\n",
              "  <tbody>\n",
              "    <tr>\n",
              "      <th>0</th>\n",
              "      <td>1</td>\n",
              "      <td>1</td>\n",
              "      <td>😴</td>\n",
              "      <td>1</td>\n",
              "      <td>😴</td>\n",
              "      <td>😴</td>\n",
              "      <td>😴</td>\n",
              "      <td>1</td>\n",
              "      <td>😴</td>\n",
              "      <td>😴</td>\n",
              "      <td>😴</td>\n",
              "      <td>😴</td>\n",
              "      <td>😴</td>\n",
              "      <td>😴</td>\n",
              "      <td>1</td>\n",
              "      <td>😴</td>\n",
              "    </tr>\n",
              "    <tr>\n",
              "      <th>1</th>\n",
              "      <td></td>\n",
              "      <td>8</td>\n",
              "      <td>😴</td>\n",
              "      <td>8</td>\n",
              "      <td>😴</td>\n",
              "      <td>😴</td>\n",
              "      <td>😴</td>\n",
              "      <td>4</td>\n",
              "      <td>😴</td>\n",
              "      <td>😴</td>\n",
              "      <td>😴</td>\n",
              "      <td>😴</td>\n",
              "      <td>😴</td>\n",
              "      <td>😴</td>\n",
              "      <td>8</td>\n",
              "      <td>😴</td>\n",
              "    </tr>\n",
              "    <tr>\n",
              "      <th>2</th>\n",
              "      <td></td>\n",
              "      <td></td>\n",
              "      <td>😴</td>\n",
              "      <td>0</td>\n",
              "      <td>😴</td>\n",
              "      <td>😴</td>\n",
              "      <td>😴</td>\n",
              "      <td>0</td>\n",
              "      <td>😴</td>\n",
              "      <td>😴</td>\n",
              "      <td>😴</td>\n",
              "      <td>😴</td>\n",
              "      <td>😴</td>\n",
              "      <td>😴</td>\n",
              "      <td>0</td>\n",
              "      <td>😴</td>\n",
              "    </tr>\n",
              "  </tbody>\n",
              "</table>\n",
              "</div>"
            ],
            "text/plain": [
              "  0  1  2   3  4  5  6   7  8  9  10 11 12 13  14 15\n",
              "0  1  1  😴   1  😴  😴  😴   1  😴  😴  😴  😴  😴  😴   1  😴\n",
              "1     8  😴   8  😴  😴  😴   4  😴  😴  😴  😴  😴  😴   8  😴\n",
              "2        😴   0  😴  😴  😴   0  😴  😴  😴  😴  😴  😴   0  😴"
            ]
          },
          "metadata": {},
          "execution_count": 75
        }
      ]
    },
    {
      "cell_type": "markdown",
      "metadata": {
        "id": "qFlW4HJqikS1"
      },
      "source": [
        "# **Optimal Page Replacement**"
      ]
    },
    {
      "cell_type": "code",
      "metadata": {
        "colab": {
          "base_uri": "https://localhost:8080/"
        },
        "id": "ZTY5gL0tiJm0",
        "outputId": "ed3912ba-fcb0-4ef0-dcd0-24eb4f7ff03f"
      },
      "source": [
        "rs = list(map(int, input('Reference Sting: ').split()))\n",
        "fs = int(input('Total Frame: '))"
      ],
      "execution_count": 76,
      "outputs": [
        {
          "name": "stdout",
          "output_type": "stream",
          "text": [
            "Reference Sting: 1 8 1 0 1 0 0 4 4 0 0 1 0 1 8 1\n",
            "Total Frame: 3\n"
          ]
        }
      ]
    },
    {
      "cell_type": "code",
      "metadata": {
        "colab": {
          "base_uri": "https://localhost:8080/"
        },
        "id": "8upvJyc_nh7G",
        "outputId": "5f71d2ac-003f-4e16-f4bb-82f6fa533b75"
      },
      "source": [
        "flts = 0\n",
        "cont = []\n",
        "temp = rs.copy()\n",
        "table = []\n",
        "emo = [\"\\N{sleeping face}\", \"\\N{sleeping face}\", \"\\N{sleeping face}\"]\n",
        "n = len(rs)\n",
        "\n",
        "for i in range(n):\n",
        "    temp.remove(rs[i])\n",
        "\n",
        "    if (len(cont) < fs):\n",
        "        if (rs[i] not in cont):\n",
        "            cont.append(rs[i])\n",
        "            data = cont.copy()\n",
        "            table.append(data)\n",
        "            print(cont)\n",
        "            flts += 1\n",
        "        else:\n",
        "            data = emo.copy()\n",
        "            table.append(data)\n",
        "            print('< * * * >')\n",
        "    else:\n",
        "        if (rs[i] not in cont):\n",
        "            p = []\n",
        "            demo = cont.copy()\n",
        "\n",
        "            for x in temp:\n",
        "                if x in cont:\n",
        "                    p.append(x)\n",
        "\n",
        "            q = p[::-1]\n",
        "\n",
        "            for y in q:\n",
        "                while (q.count(y) > 1):\n",
        "                    q.remove(y)\n",
        "\n",
        "            r = q[::-1]\n",
        "            \n",
        "            if (len(r) < 3):\n",
        "                for y in cont:\n",
        "                    if y in r:\n",
        "                        demo.remove(y)\n",
        "                v = demo[0]\n",
        "            else:\n",
        "                v = r[len(r)-1]\n",
        "            \n",
        "            cont[cont.index(v)] = rs[i]\n",
        "            data = cont.copy()\n",
        "            table.append(data)\n",
        "            print(cont)\n",
        "            flts += 1\n",
        "        else:\n",
        "            data = emo.copy()\n",
        "            table.append(data)\n",
        "            print('< * * * >')"
      ],
      "execution_count": 79,
      "outputs": [
        {
          "output_type": "stream",
          "name": "stdout",
          "text": [
            "[1]\n",
            "[1, 8]\n",
            "< * * * >\n",
            "[1, 8, 0]\n",
            "< * * * >\n",
            "< * * * >\n",
            "< * * * >\n",
            "[1, 4, 0]\n",
            "< * * * >\n",
            "< * * * >\n",
            "< * * * >\n",
            "< * * * >\n",
            "< * * * >\n",
            "< * * * >\n",
            "[1, 8, 0]\n",
            "< * * * >\n"
          ]
        }
      ]
    },
    {
      "cell_type": "code",
      "metadata": {
        "colab": {
          "base_uri": "https://localhost:8080/"
        },
        "id": "AoPtdK4S2tzv",
        "outputId": "38b8e4be-c4c2-4465-e273-5d7934e3e2bf"
      },
      "source": [
        "hits = (n - flts)\n",
        "print(f'Total page faults: {flts}\\nTotal hits: {hits}')"
      ],
      "execution_count": 80,
      "outputs": [
        {
          "output_type": "stream",
          "name": "stdout",
          "text": [
            "Total page faults: 5\n",
            "Total hits: 11\n"
          ]
        }
      ]
    },
    {
      "cell_type": "code",
      "metadata": {
        "colab": {
          "base_uri": "https://localhost:8080/"
        },
        "id": "hZIB_jhY6qGc",
        "outputId": "564d4c8e-b700-4fa0-a084-433cb1e0a7f7"
      },
      "source": [
        "fr = (flts/n)*100\n",
        "hr = (hits/n)*100\n",
        "print(f'Fault Ratio: {fr:.2f}\\nHit Ratio: {hr:.2f}')"
      ],
      "execution_count": 53,
      "outputs": [
        {
          "output_type": "stream",
          "name": "stdout",
          "text": [
            "Fault Ratio: 31.25\n",
            "Hit Ratio: 68.75\n"
          ]
        }
      ]
    },
    {
      "cell_type": "code",
      "metadata": {
        "colab": {
          "base_uri": "https://localhost:8080/",
          "height": 141
        },
        "id": "SZFkbd5si34s",
        "outputId": "fed4e6c4-1334-47a6-ddf3-d3288650b740"
      },
      "source": [
        "import numpy as np\n",
        "import pandas as pd\n",
        "\n",
        "df = pd.DataFrame(table).convert_dtypes(int).T\n",
        "df = df.replace(np.nan, '', regex=True)\n",
        "df"
      ],
      "execution_count": 81,
      "outputs": [
        {
          "output_type": "execute_result",
          "data": {
            "text/html": [
              "<div>\n",
              "<style scoped>\n",
              "    .dataframe tbody tr th:only-of-type {\n",
              "        vertical-align: middle;\n",
              "    }\n",
              "\n",
              "    .dataframe tbody tr th {\n",
              "        vertical-align: top;\n",
              "    }\n",
              "\n",
              "    .dataframe thead th {\n",
              "        text-align: right;\n",
              "    }\n",
              "</style>\n",
              "<table border=\"1\" class=\"dataframe\">\n",
              "  <thead>\n",
              "    <tr style=\"text-align: right;\">\n",
              "      <th></th>\n",
              "      <th>0</th>\n",
              "      <th>1</th>\n",
              "      <th>2</th>\n",
              "      <th>3</th>\n",
              "      <th>4</th>\n",
              "      <th>5</th>\n",
              "      <th>6</th>\n",
              "      <th>7</th>\n",
              "      <th>8</th>\n",
              "      <th>9</th>\n",
              "      <th>10</th>\n",
              "      <th>11</th>\n",
              "      <th>12</th>\n",
              "      <th>13</th>\n",
              "      <th>14</th>\n",
              "      <th>15</th>\n",
              "    </tr>\n",
              "  </thead>\n",
              "  <tbody>\n",
              "    <tr>\n",
              "      <th>0</th>\n",
              "      <td>1</td>\n",
              "      <td>1</td>\n",
              "      <td>😴</td>\n",
              "      <td>1</td>\n",
              "      <td>😴</td>\n",
              "      <td>😴</td>\n",
              "      <td>😴</td>\n",
              "      <td>1</td>\n",
              "      <td>😴</td>\n",
              "      <td>😴</td>\n",
              "      <td>😴</td>\n",
              "      <td>😴</td>\n",
              "      <td>😴</td>\n",
              "      <td>😴</td>\n",
              "      <td>1</td>\n",
              "      <td>😴</td>\n",
              "    </tr>\n",
              "    <tr>\n",
              "      <th>1</th>\n",
              "      <td></td>\n",
              "      <td>8</td>\n",
              "      <td>😴</td>\n",
              "      <td>8</td>\n",
              "      <td>😴</td>\n",
              "      <td>😴</td>\n",
              "      <td>😴</td>\n",
              "      <td>4</td>\n",
              "      <td>😴</td>\n",
              "      <td>😴</td>\n",
              "      <td>😴</td>\n",
              "      <td>😴</td>\n",
              "      <td>😴</td>\n",
              "      <td>😴</td>\n",
              "      <td>8</td>\n",
              "      <td>😴</td>\n",
              "    </tr>\n",
              "    <tr>\n",
              "      <th>2</th>\n",
              "      <td></td>\n",
              "      <td></td>\n",
              "      <td>😴</td>\n",
              "      <td>0</td>\n",
              "      <td>😴</td>\n",
              "      <td>😴</td>\n",
              "      <td>😴</td>\n",
              "      <td>0</td>\n",
              "      <td>😴</td>\n",
              "      <td>😴</td>\n",
              "      <td>😴</td>\n",
              "      <td>😴</td>\n",
              "      <td>😴</td>\n",
              "      <td>😴</td>\n",
              "      <td>0</td>\n",
              "      <td>😴</td>\n",
              "    </tr>\n",
              "  </tbody>\n",
              "</table>\n",
              "</div>"
            ],
            "text/plain": [
              "  0  1  2   3  4  5  6   7  8  9  10 11 12 13  14 15\n",
              "0  1  1  😴   1  😴  😴  😴   1  😴  😴  😴  😴  😴  😴   1  😴\n",
              "1     8  😴   8  😴  😴  😴   4  😴  😴  😴  😴  😴  😴   8  😴\n",
              "2        😴   0  😴  😴  😴   0  😴  😴  😴  😴  😴  😴   0  😴"
            ]
          },
          "metadata": {},
          "execution_count": 81
        }
      ]
    }
  ]
}
